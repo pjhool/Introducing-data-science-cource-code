{
 "metadata": {
  "name": "",
  "signature": "sha256:e7db4bf498fbeb1fe6122eb28492e52659594fde513178fa21de0cd3c68f3f37"
 },
 "nbformat": 3,
 "nbformat_minor": 0,
 "worksheets": [
  {
   "cells": [
    {
     "cell_type": "markdown",
     "metadata": {},
     "source": [
      "#Modules"
     ]
    },
    {
     "cell_type": "code",
     "collapsed": false,
     "input": [
      "from elasticsearch import Elasticsearch\n",
      "import json"
     ],
     "language": "python",
     "metadata": {},
     "outputs": [],
     "prompt_number": 1
    },
    {
     "cell_type": "markdown",
     "metadata": {},
     "source": [
      "#ElasticSearch"
     ]
    },
    {
     "cell_type": "markdown",
     "metadata": {},
     "source": [
      "##Index"
     ]
    },
    {
     "cell_type": "code",
     "collapsed": false,
     "input": [
      "#the index name Elasticsearch client used to communicate with the database\n",
      "client = Elasticsearch()\n",
      "indexName = \"gastronomical\"\n",
      "docType = 'recipes'"
     ],
     "language": "python",
     "metadata": {},
     "outputs": []
    },
    {
     "cell_type": "code",
     "collapsed": false,
     "input": [
      "# create an index (only once)\n",
      "client.indices.create(index=indexName)"
     ],
     "language": "python",
     "metadata": {},
     "outputs": []
    },
    {
     "cell_type": "markdown",
     "metadata": {},
     "source": [
      "##Document"
     ]
    },
    {
     "cell_type": "code",
     "collapsed": false,
     "input": [
      "# location of recipe json file: change this to match your own setup!\n",
      "file_name = 'C:/Users/Gebruiker/Downloads/recipes.json'"
     ],
     "language": "python",
     "metadata": {},
     "outputs": []
    },
    {
     "cell_type": "code",
     "collapsed": false,
     "input": [
      "#Create document mapping\n",
      "recipeMapping = {\n",
      "        'properties': {\n",
      "            'name': {'type': 'string'},\n",
      "            'ingredients': {'type': 'string'}\n",
      "        }\n",
      "    }\n",
      "client.indices.put_mapping(index=indexName,doc_type=docType,body=recipeMapping )"
     ],
     "language": "python",
     "metadata": {},
     "outputs": []
    },
    {
     "cell_type": "markdown",
     "metadata": {},
     "source": [
      "#Recipes Data"
     ]
    },
    {
     "cell_type": "code",
     "collapsed": false,
     "input": [
      "#Load Json file\n",
      "with open(file_name) as data_file:\n",
      "    recipeData = json.load(data_file)"
     ],
     "language": "python",
     "metadata": {},
     "outputs": []
    },
    {
     "cell_type": "markdown",
     "metadata": {},
     "source": [
      "#Indexing"
     ]
    },
    {
     "cell_type": "code",
     "collapsed": false,
     "input": [
      "#Index the recipes\n",
      "for recipe in recipeData:\n",
      "    print recipe.keys()\n",
      "    print recipe['_id'].keys()\n",
      "    client.index(index=indexName, doc_type=docType,id = recipe['_id']['$oid'], body={\"name\": recipe['name'], \"ingredients\":recipe['ingredients']})"
     ],
     "language": "python",
     "metadata": {},
     "outputs": []
    }
   ],
   "metadata": {}
  }
 ]
}